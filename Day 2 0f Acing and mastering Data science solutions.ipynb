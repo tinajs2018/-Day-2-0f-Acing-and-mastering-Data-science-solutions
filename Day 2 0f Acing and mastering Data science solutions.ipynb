{
 "cells": [
  {
   "cell_type": "markdown",
   "metadata": {},
   "source": [
    "#question1\n",
    "let say you’re given a dataframe of standardized test scores from high schoolers from grades 9 to 12 called df_grades.\n",
    "Given the dataset, write code function in Pandas called bucket_test_scores to return the cumulative percentage of students \n",
    "that received scores within the buckets of <50, <75, <90, <100."
   ]
  },
  {
   "cell_type": "code",
   "execution_count": 8,
   "metadata": {},
   "outputs": [
    {
     "data": {
      "text/html": [
       "<div>\n",
       "<style scoped>\n",
       "    .dataframe tbody tr th:only-of-type {\n",
       "        vertical-align: middle;\n",
       "    }\n",
       "\n",
       "    .dataframe tbody tr th {\n",
       "        vertical-align: top;\n",
       "    }\n",
       "\n",
       "    .dataframe thead th {\n",
       "        text-align: right;\n",
       "    }\n",
       "</style>\n",
       "<table border=\"1\" class=\"dataframe\">\n",
       "  <thead>\n",
       "    <tr style=\"text-align: right;\">\n",
       "      <th></th>\n",
       "      <th>math</th>\n",
       "      <th>English</th>\n",
       "      <th>Science</th>\n",
       "      <th>cum_math</th>\n",
       "    </tr>\n",
       "  </thead>\n",
       "  <tbody>\n",
       "    <tr>\n",
       "      <th>0</th>\n",
       "      <td>56</td>\n",
       "      <td>76</td>\n",
       "      <td>67</td>\n",
       "      <td>15.730337</td>\n",
       "    </tr>\n",
       "    <tr>\n",
       "      <th>1</th>\n",
       "      <td>89</td>\n",
       "      <td>67</td>\n",
       "      <td>89</td>\n",
       "      <td>40.730337</td>\n",
       "    </tr>\n",
       "    <tr>\n",
       "      <th>2</th>\n",
       "      <td>57</td>\n",
       "      <td>89</td>\n",
       "      <td>56</td>\n",
       "      <td>56.741573</td>\n",
       "    </tr>\n",
       "    <tr>\n",
       "      <th>3</th>\n",
       "      <td>87</td>\n",
       "      <td>99</td>\n",
       "      <td>78</td>\n",
       "      <td>81.179775</td>\n",
       "    </tr>\n",
       "    <tr>\n",
       "      <th>4</th>\n",
       "      <td>67</td>\n",
       "      <td>57</td>\n",
       "      <td>93</td>\n",
       "      <td>100.000000</td>\n",
       "    </tr>\n",
       "  </tbody>\n",
       "</table>\n",
       "</div>"
      ],
      "text/plain": [
       "   math  English  Science    cum_math\n",
       "0    56       76       67   15.730337\n",
       "1    89       67       89   40.730337\n",
       "2    57       89       56   56.741573\n",
       "3    87       99       78   81.179775\n",
       "4    67       57       93  100.000000"
      ]
     },
     "execution_count": 8,
     "metadata": {},
     "output_type": "execute_result"
    }
   ],
   "source": [
    "#solution\n",
    "import pandas as pd\n",
    "import numpy  as np\n",
    "#creating a dataframe\n",
    "data={\n",
    "    'math':[56,89,57,87,67],\n",
    "    'English':[76,67,89,99,57],\n",
    "    'Science':[67,89,56,78,93]\n",
    "}\n",
    "df_grades=pd.DataFrame(data,columns=['math','English','Science'])\n",
    "# Computing cumulative Percentage\n",
    "df_grades['cum_math']=(df_grades['math'].cumsum()/df_grades['math'].sum()) *100\n",
    "df_grades"
   ]
  },
  {
   "cell_type": "code",
   "execution_count": null,
   "metadata": {},
   "outputs": [],
   "source": [
    "You’re given a dataframe df_cheeses containing a list of the price of various cheeses from California. \n",
    "The dataframe has missing values in the price column.Write a function cheese_median to impute the median price \n",
    "of the selected California cheeses in place of the missing values.\n",
    "You may assume at least one cheese is not missing its price.\n"
   ]
  },
  {
   "cell_type": "code",
   "execution_count": 22,
   "metadata": {},
   "outputs": [],
   "source": [
    "#solution\n",
    "cheese_median=df_cheeses.fillna(df_cheeses.median())"
   ]
  },
  {
   "cell_type": "code",
   "execution_count": null,
   "metadata": {},
   "outputs": [],
   "source": [
    "You’re given a table that represents search results from searches on Facebook. \n",
    "The query column is the search term, the position column represents each position \n",
    "the search result came in, and the rating column represents the human rating of the search result from 1 \n",
    "to 5 where \n",
    "5 is high relevance and 1 is low relevance.\n",
    "Write a query to compute a metric to measure the quality of the search results for each query. "
   ]
  },
  {
   "cell_type": "code",
   "execution_count": null,
   "metadata": {},
   "outputs": [],
   "source": [
    "#solution\n",
    "SELECT \n",
    "  *\n",
    "    , ROW_NUMBER() OVER(PARTITION BY query ORDER BY rating DESC) desc_rating\n",
    "FROM search_results"
   ]
  },
  {
   "cell_type": "code",
   "execution_count": null,
   "metadata": {},
   "outputs": [],
   "source": [
    "We’re given three tables representing a forum of users and their comments on posts.\n",
    "We want to figure out if users are creating multiple accounts to upvote their own comments. \n",
    "What kind of metrics could we use to figure this out?"
   ]
  },
  {
   "cell_type": "code",
   "execution_count": null,
   "metadata": {},
   "outputs": [],
   "source": [
    "#solution\n",
    "Time spent on site\n",
    "Returning visitors\n",
    "Pages per visit\n",
    "User Activity\n",
    "Traffic\n",
    "NB more can be added to it"
   ]
  }
 ],
 "metadata": {
  "kernelspec": {
   "display_name": "Python 3",
   "language": "python",
   "name": "python3"
  },
  "language_info": {
   "codemirror_mode": {
    "name": "ipython",
    "version": 3
   },
   "file_extension": ".py",
   "mimetype": "text/x-python",
   "name": "python",
   "nbconvert_exporter": "python",
   "pygments_lexer": "ipython3",
   "version": "3.7.6"
  }
 },
 "nbformat": 4,
 "nbformat_minor": 4
}
